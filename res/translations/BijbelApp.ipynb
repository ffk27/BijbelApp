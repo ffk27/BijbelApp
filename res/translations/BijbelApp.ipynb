{
 "cells": [
  {
   "cell_type": "markdown",
   "metadata": {},
   "source": [
    "Load deps"
   ]
  },
  {
   "cell_type": "code",
   "execution_count": 3,
   "metadata": {},
   "outputs": [
    {
     "name": "stderr",
     "output_type": "stream",
     "text": "[nltk_data] Downloading package punkt to /home/ffk27/nltk_data...\n[nltk_data]   Package punkt is already up-to-date!\n"
    }
   ],
   "source": [
    "from nltk.tokenize import word_tokenize\n",
    "from nltk.stem.snowball import DutchStemmer\n",
    "from collections import defaultdict, Counter\n",
    "import nltk\n",
    "import json\n",
    "from math import log10, sqrt\n",
    "nltk.download('punkt')\n",
    "stemmer = DutchStemmer()"
   ]
  },
  {
   "cell_type": "markdown",
   "metadata": {},
   "source": [
    "De complete bijbel in het data-object stoppen met de volgende datastructuur:\n",
    "```\n",
    "{\n",
    "    translation: 'NBG 1951',\n",
    "    language: 'DUT',\n",
    "    id: 'NBG51'\n",
    "    books: [{\n",
    "        bname: 'Genesis',\n",
    "        bsname: 'Gen',\n",
    "        chapters:[\n",
    "            ['In den beginne', 'Vers 2'],   # Hoofdstuk 1\n",
    "            ['Vers 1', 'Vers 2']            # Hoofdstuk 2\n",
    "        ]\n",
    "    }]\n",
    "}\n",
    "```"
   ]
  },
  {
   "cell_type": "code",
   "execution_count": 4,
   "metadata": {},
   "outputs": [
    {
     "name": "stdout",
     "output_type": "stream",
     "text": "Vertaling: De Nieuwe Bijbelvertaling\nGenesis 1:1 :\n"
    },
    {
     "data": {
      "text/plain": "'In het begin schiep God de hemel en de aarde. '"
     },
     "execution_count": 4,
     "metadata": {},
     "output_type": "execute_result"
    }
   ],
   "source": [
    "filename = 'NBV.json'\n",
    "\n",
    "data = {}\n",
    "\n",
    "with open(filename) as json_file:\n",
    "    data = json.load(json_file)\n",
    "    print('Vertaling:', data['translation'])\n",
    "\n",
    "def getVers(pos):\n",
    "    return data['books'][pos[0]-1]['chapters'][pos[1]-1][pos[2]-1]\n",
    "\n",
    "def posName(pos):\n",
    "    return data['books'][pos[0]-1]['bname'] + ' ' + str(pos[1]) + ':' + str(pos[2])\n",
    "\n",
    "pos = (1, 1, 1)\n",
    "\n",
    "print(posName(pos), ':')\n",
    "getVers(pos)"
   ]
  },
  {
   "cell_type": "markdown",
   "metadata": {},
   "source": [
    "Een inverted index opbouwen van ieder woord van elk vers. De woorden worden m.b.v. de stem-functie geminimaliseerd. Aan ieder woord wordt de positie van het vers toegevoegd. De positie heeft is een tupel met (boeknr, hoofdstuknr, versnr)\n",
    "Voorbeeld: ```inverted_index['In'] = [(1,1,1)...enz]```"
   ]
  },
  {
   "cell_type": "code",
   "execution_count": 5,
   "metadata": {},
   "outputs": [
    {
     "name": "stdout",
     "output_type": "stream",
     "text": "21450 verschillende woorden geindexeerd.\n"
    },
    {
     "data": {
      "text/plain": "[('de', 56),\n ('het', 52),\n ('en', 51),\n ('.', 45),\n (',', 29),\n ('god', 24),\n (':', 15),\n ('aard', 14),\n ('van', 13),\n ('over', 12)]"
     },
     "execution_count": 5,
     "metadata": {},
     "output_type": "execute_result"
    }
   ],
   "source": [
    "inverted_index = defaultdict(list)\n",
    "tf_matrix = defaultdict(Counter)\n",
    "\n",
    "def preprocess(tokens):\n",
    "    for i, token in enumerate(tokens):\n",
    "        tokens[i] = stemmer.stem(token)\n",
    "    return tokens\n",
    "\n",
    "def buildIndeces():\n",
    "    for i, book in enumerate(data['books']):\n",
    "        for j, chapter in enumerate(book['chapters']):\n",
    "            tf_matrix[(i+1,j+1)] = Counter()\n",
    "            for k, vers in enumerate(chapter):\n",
    "                tokens = preprocess(word_tokenize(vers))\n",
    "                tf_matrix[(i+1,j+1)] += Counter(tokens)\n",
    "                for word in tokens:\n",
    "                    inverted_index[word].append((i+1, j+1, k+1))\n",
    "\n",
    "buildIndeces()\n",
    "print(len(inverted_index), 'verschillende woorden geindexeerd.')\n",
    "tf_matrix[(1,1)].most_common(10) # woordtellingen Genesis 1"
   ]
  },
  {
   "cell_type": "markdown",
   "metadata": {},
   "source": [
    "Functie's voor tf-idf:"
   ]
  },
  {
   "cell_type": "code",
   "execution_count": 6,
   "metadata": {},
   "outputs": [
    {
     "name": "stdout",
     "output_type": "stream",
     "text": "Aantal hoofdstukken: 1346.0\nAantal keer het woord god in Genesis 1: 24.0\nAantal keer het woord god in de hele bijbel: 5020.0\nInverse document freqency: 0.2682732523401713\nTf-idf: 6.438558056164111\n"
    }
   ],
   "source": [
    "def idf(t):\n",
    "    return (num_documents + 1) / (df(t) + 1)\n",
    "\n",
    "def tfidf(t,d): # returns tf-idf score of term t in document d\n",
    "    return tf(t,d) * idf(t)\n",
    "\n",
    "def tf(t,d):\n",
    "    return float(tf_matrix[d][t])\n",
    "\n",
    "def df(t):\n",
    "    return float(len(inverted_index[t]))\n",
    "\n",
    "num_documents = float(len(tf_matrix))\n",
    "\n",
    "print('Aantal hoofdstukken:', num_documents)\n",
    "print('Aantal keer het woord god in Genesis 1:', tf('god', (1,1)))\n",
    "print('Aantal keer het woord god in de hele bijbel:', df('god'))\n",
    "print('Inverse document freqency:', idf('god'))\n",
    "print('Tf-idf:', tfidf('god', (1,1)))"
   ]
  },
  {
   "cell_type": "markdown",
   "metadata": {},
   "source": [
    "Zoeken op 1 woord"
   ]
  },
  {
   "cell_type": "code",
   "execution_count": 7,
   "metadata": {},
   "outputs": [
    {
     "name": "stdout",
     "output_type": "stream",
     "text": "Brief van Jeremia 1:1 \t- Omdat jullie gezondigd hebben tegen God, zullen jullie in ballingschap naar Babylonië worden weggevoerd door Nebukadnessar, de koning van de Babyloniërs.\nPsalmen 68:1 \t- Voor de koorleider. Van David, een psalm, een lied. (68:2) God staat op, zijn vijanden stuiven uiteen, zijn haters vluchten als hij verschijnt. \n1 Johannes 4:1 \t- Geliefde broeders en zusters, vertrouw niet elke geest. Onderzoek altijd of een geest van God komt, want er zijn veel valse profeten in de wereld verschenen. \nDeuteronomium 4:1 \t- Luister dus, Israël, naar de wetten en de regels waarin ik u onderwijs en kom ze na. Dan blijft u in leven en kunt u het land in bezit nemen dat de HEER, de God van uw voorouders, u zal geven. \nGenesis 1:1 \t- In het begin schiep God de hemel en de aarde. \nRomeinen 1:1 \t- Van Paulus, dienaar van Christus Jezus, geroepen tot apostel en uitgekozen om het evangelie van God te verkondigen, \nRomeinen 8:3 \t- Waartoe de wet niet in staat was, machteloos als hij was door de menselijke natuur, dat heeft God tot stand gebracht. Vanwege de zonde heeft hij zijn eigen Zoon als mens in dit zondige bestaan gestuurd; zo heeft hij in dit bestaan met de zonde afgerekend, \nHandelingen 7:2 \t- Stefanus antwoordde: ‘Broeders en leden van het Sanhedrin, luister naar wat ik u te zeggen heb. Toen Abraham, de vader van ons volk, nog in Mesopotamië woonde, voordat hij zich in Charan vestigde, verscheen God in al zijn luister aan hem \nGenesis 31:5 \t- en zei tegen hen: ‘Ik merk dat jullie vader niet meer zo vriendelijk tegen mij is als eerst, maar de God van mijn vader heeft mij geholpen. \nEzechiël 20:3 \t- 'Mensenkind, zeg tegen de oudsten van Israël: \"Dit zegt God, de HEER: Komen jullie mij raadplegen? Zo waar ik leef: ik zal me beslist niet door jullie laten raadplegen! -spreekt God, de HEER.\" \n"
    }
   ],
   "source": [
    "results = [(pos, tfidf('god', (pos[0], pos[1]))) for pos in inverted_index['god']]\n",
    "resultsc = []\n",
    "chapter = (0, 0)\n",
    "for res in sorted(results, key=lambda tup: tup[1], reverse=True):\n",
    "    ch = res[0][0:2]\n",
    "    if (chapter ==  ch):\n",
    "        resultsc[len(resultsc)-1].append(res[0])\n",
    "    else:\n",
    "        resultsc.append([res[0]])\n",
    "        chapter = ch\n",
    "for res in resultsc[0:10]:\n",
    "    print(posName(res[0]), '\\t-',getVers(res[0]))"
   ]
  },
  {
   "cell_type": "code",
   "execution_count": 33,
   "metadata": {},
   "outputs": [
    {
     "name": "stdout",
     "output_type": "stream",
     "text": "Exodus 8:26 (8:22) 'Dat is onmogelijk, 'zei Mozes. 'De offers die wij de HEER, onze God, moeten brengen, zullen de Egyptenaren weerzinwekkend vinden. Als we in hun bijzijn dergelijke offers brengen, stenigen ze ons nog!  \n\nExodus 17:4 Mozes riep luid de HEER aan. 'Wat moet ik met dit volk beginnen?' vroeg hij. 'Er hoeft niet veel meer te gebeuren of ze stenigen mij!'  \n\nLeviticus 20:2 'Zeg tegen de Israëlieten: \"Wanneer een Israëliet of een vreemdeling die in Israël woont een van zijn kinderen aan Moloch offert, moet hij ter dood gebracht worden; het volk moet hem stenigen.  \n\nNumeri 14:10 Het volk dreigde hen te stenigen, maar toen verscheen de majesteit van de HEER in de ontmoetingstent aan de Israëlieten.  \n\nNumeri 15:34 De HEER zei tegen Mozes: 'Die man moet gedood worden. De hele gemeenschap moet hem buiten het kamp stenigen.'  \n\nNumeri 15:35 Toen brachten ze hem met zijn allen buiten het kamp, en daar doodden ze hem door hem te stenigen, zoals de HEER Mozes had opgedragen.  \n\nDeuteronomium 13:9 (13:10) (10-11) U moet hem ter dood brengen; samen met uw volksgenoten moet u hem stenigen tot de dood erop volgt, en zelf moet u de eerste steen werpen. Dat is zijn straf, want hij heeft geprobeerd u te vervreemden van de HEER, uw God, die u uit de slavernij in Egypte heeft bevrijd.  \n\nDeuteronomium 17:5 dan moet u de man of vrouw die zich zo misdragen heeft de stad uit brengen en buiten de poort stenigen tot de dood erop volgt.  \n\nDeuteronomium 17:7 De getuigen moeten, samen met de rest van het volk, de dader stenigen tot de dood erop volgt, en zelf moeten zij de eerste steen werpen. Zo moet u het kwaad dat zich bij u aandient in de kiem smoren.  \n\nDeuteronomium 21:20 De inwoners van de stad moeten hem dan stenigen tot de dood erop volgt. Zo moet u het kwaad dat zich bij u aandient in de kiem smoren. Het hele volk van Israël moet erdoor worden afgeschrikt.  \n\nDeuteronomium 22:24 dan moet u hen allebei mee de stad uit nemen en hen stenigen tot de dood erop volgt. Want het meisje heeft nagelaten om hulp te roepen, en de man heeft zich vergrepen aan de bruid van een ander. Zo moet u het kwaad dat zich bij u aandient in de kiem smoren.  \n\n1 Samuël 30:6 David kreeg het zwaar te verduren, want zijn mannen waren zo verbitterd over het verlies van hun kinderen dat ze hem dreigden te stenigen. Daarom zocht hij steun bij de HEER, zijn God.  \n\n1 Koningen 21:10 Laat dan twee mannen die nergens voor terugdeinzen tegenover hem plaatsnemen en hem beschuldigen van godslastering en majesteitsschennis. Daarop moet u hem buiten de stad brengen en stenigen.'  \n\n1 Koningen 21:14 Ze stuurden Izebel bericht dat Nabot door steniging ter dood was gebracht.  \n\nEzechiël 16:39 Dan zullen ze een mensenmassa op je afsturen die je zal stenigen en met zwaarden op je in zal hakken.  \n\nEzechiël 23:45 Die menigte zal hen stenigen, hen neerhakken met hun zwaarden, hun zonen en dochters doden en hun huizen in brand steken.  \n\nLukas 20:6 Maar als we antwoorden: “Van mensen, ”zal het volk ons willen stenigen, omdat iedereen ervan overtuigd is dat Johannes een profeet was.’  \n\nJohannes 8:5 Mozes draagt ons in de wet op zulke vrouwen te stenigen. Wat vindt u daarvan?’  \n\nJohannes 10:31 Toen de Joden weer stenen opraapten omdat ze hem wilden stenigen,  \n\nJohannes 10:32 zei Jezus: ‘Ik heb door de Vader veel goeds voor u gedaan; waarom wilt u me stenigen?’  \n\nJohannes 10:33 ‘Voor een goede daad zullen we u niet stenigen, ‘antwoordden ze, ‘maar wel voor godslastering: u bent een mens, maar u beweert dat u God bent!’  \n\nJohannes 11:8 ‘Maar rabbi, ‘protesteerden de leerlingen, ‘de Joden wilden u stenigen, en nu wilt u daar toch weer naartoe?’  \n\nHandelingen 5:26 Daarop ging het hoofd van de tempelwacht hen met zijn wachters halen, maar zonder geweld te gebruiken, omdat ze bang waren dat het volk hen zou stenigen.  \n\nHandelingen 7:58 Ze dreven hem de stad uit om hem te stenigen. De getuigen gaven hun mantel in bewaring bij een jongeman die Saulus heette.  \n\nHandelingen 14:5 Toen Paulus en Barnabas merkten dat heidenen en Joden samen met hun leiders op het punt stonden om geweld te gebruiken en hen wilden stenigen,  \n\nExodus 19:13 Zo iemand mag met geen vinger aangeraakt worden; hij moet worden gestenigd of met pijlen doorboord. Of het nu mensen of dieren betreft, ze mogen niet in leven blijven. Pas als het geluid van een ramshoorn weerklinkt, mogen ze de berg op gaan.'  \n\nExodus 21:28 Wanneer een stier een man of vrouw zodanig stoot dat deze sterft, moet die stier gestenigd worden en mag het vlees ervan niet gegeten worden. De eigenaar gaat echter vrijuit.  \n\nExodus 21:29 Maar als die stier een man of vrouw doodt terwijl hij voor die tijd al stotig was, en de eigenaar was gewaarschuwd maar had hem niet vastgezet, dan moet niet alleen de stier gestenigd worden maar moet ook de eigenaar ter dood gebracht worden.  \n\nExodus 21:32 Als hij een slaaf of slavin stoot, moet aan zijn of haar meester dertig sjekel zilver worden betaald en moet de stier gestenigd worden.  \n\nLeviticus 20:27 Een man of een vrouw die geesten of schimmen van doden laat spreken, moet ter dood gebracht worden. Zulke mensen moeten worden gestenigd en hebben hun dood aan zichzelf te wijten.\"'  \n\nLeviticus 24:13 'Breng degene die gevloekt heeft buiten het kamp. Allen die het gehoord hebben, moeten hun hand op zijn hoofd leggen en hij moet door de voltallige gemeenschap gestenigd worden.  \n\nLeviticus 24:15 Wie de naam van de HEER lastert moet ter dood gebracht worden, die moet door de voltallige gemeenschap worden gestenigd. Of het nu een vreemdeling is of een geboren Israëliet, wie mijn naam lastert moet ter dood gebracht worden.  \n\nLeviticus 24:21 Nadat Mozes dit tegen de Israëlieten had gezegd, werd de godslasteraar buiten het kamp gebracht en gestenigd. Zo voerden de Israëlieten uit wat de HEER Mozes had opgedragen.  \n\nDeuteronomium 22:21 moet zij naar haar ouderlijk huis worden teruggebracht en daar voor de deur door de andere inwoners van de stad worden gestenigd tot de dood erop volgt. Want zij heeft onder het volk van Israël een schanddaad begaan door met iemand te slapen terwijl ze nog bij haar vader thuis woonde. Zo moet u het kwaad dat zich bij u aandient in de kiem smoren.  \n\nJozua 7:25 Jozua zei: 'Jij hebt ons in het ongeluk gestort! Daarom zal de HEER jou vandaag in het ongeluk storten.' Hij en al de zijnen werden door heel Israël gestenigd en verbrand.  \n\n1 Koningen 12:18 Hij stuurde Adoniram, de opzichter van de herendienst, nog naar de Israëlieten, maar die werd gestenigd. De koning zelf kon nog net op een wagen klimmen en naar Jeruzalem ontkomen.  \n\n1 Koningen 21:13 Twee mannen namen tegenover hem plaats en beschuldigden hem ten overstaan van het volk van godslastering en majesteitsschennis. Daarop werd hij buiten de stad gebracht en gestenigd.  \n\n2 Kronieken 10:18 Hij stuurde Hadoram, de opzichter van de herendienst, nog naar de Israëlieten, maar die werd gestenigd. De koning zelf kon nog net op een wagen klimmen en naar Jeruzalem ontkomen.  \n\n2 Kronieken 24:21 Maar men spande tegen hem samen, en op bevel van de koning werd hij in de voorhof van de tempel gestenigd.  \n\nHandelingen 7:59 Terwijl Stefanus gestenigd werd, riep hij uit: ‘Heer Jezus, ontvang mijn geest.’  \n\nHebreeën 11:37 Ze werden gestenigd of doormidden gezaagd, of stierven door een moordend zwaard. Ze zwierven rond in schapenvachten of geitenvellen, berooid, vernederd en mishandeld.  \n\nHebreeën 12:20 omdat wat hun werd opgedragen ondraaglijk was: ‘Zelfs een dier dat de berg aanraakt, moet gestenigd worden!’  \n\nMattheüs 21:35 Maar de wijnbouwers grepen de knechten, ze mishandelden er een, doodden een ander en stenigden een derde.  \n\nHandelingen 14:18 Na verloop van tijd kwamen er echter Joden uit Antiochië en Ikonium die de mensen ompraatten. Ze stenigden Paulus en sleepten hem vervolgens de stad uit, in de veronderstelling dat hij dood was.  \n\nMattheüs 23:36 Jeruzalem, Jeruzalem, dat de profeten doodt en stenigt wie naar haar toe zijn gestuurd! Hoe vaak heb ik je kinderen niet bijeen willen brengen zoals een hen haar kuikens verzamelt onder haar vleugels, maar jullie hebben het niet gewild.  \n\nLukas 13:34 -Jeruzalem, Jeruzalem, dat de profeten doodt, en stenigt wie naar haar toe zijn gestuurd! Hoe vaak heb ik je kinderen niet bijeen willen brengen zoals een hen haar kuikens onder haar vleugels hoedt, maar jullie hebben het niet gewild.  \n\n"
    }
   ],
   "source": [
    "\n",
    "def findOccurrences(term):\n",
    "    for s in [key for key in inverted_index.keys() if term in key]:\n",
    "        for pos in inverted_index[s]:\n",
    "            print(posName(pos), getVers(pos), '\\n')\n",
    "\n",
    "findOccurrences('stenig')\n",
    ""
   ]
  },
  {
   "cell_type": "code",
   "execution_count": 8,
   "metadata": {},
   "outputs": [
    {
     "name": "stdout",
     "output_type": "stream",
     "text": "(1, 1, 1)\n(1, 1, 2)\n[((1, 1, 1), 0.0), ((1, 1, 2), 0.0)]\n"
    }
   ],
   "source": [
    "def or_query(tokens):\n",
    "    indexes = set()\n",
    "    for token in tokens:\n",
    "        pos = inverted_index[token]\n",
    "        indexes.update((pos[0], pos[1]))\n",
    "    return indexes\n",
    "\n",
    "def score_ntn(query_words, doc_id):\n",
    "    score = 0.0\n",
    "    for t in query_words:\n",
    "        score += tfidf(t, doc_id)\n",
    "    return score\n",
    "\n",
    "def query_ntn(query_string):\n",
    "    docs = defaultdict(list)\n",
    "    tokenized = preprocess(word_tokenize(query_string))\n",
    "    for doc_id in or_query(tokenized):\n",
    "        print(doc_id)\n",
    "        docs[doc_id] = score_ntn(tokenized, doc_id)\n",
    "    return Counter(docs).most_common(10)\n",
    "    \n",
    "print(query_ntn('god'))"
   ]
  },
  {
   "cell_type": "code",
   "execution_count": null,
   "metadata": {},
   "outputs": [],
   "source": []
  }
 ],
 "metadata": {
  "kernelspec": {
   "display_name": "Python 3",
   "language": "python",
   "name": "python3"
  },
  "language_info": {
   "codemirror_mode": {
    "name": "ipython",
    "version": 3
   },
   "file_extension": ".py",
   "mimetype": "text/x-python",
   "name": "python",
   "nbconvert_exporter": "python",
   "pygments_lexer": "ipython3",
   "version": "3.7.4-final"
  }
 },
 "nbformat": 4,
 "nbformat_minor": 2
}